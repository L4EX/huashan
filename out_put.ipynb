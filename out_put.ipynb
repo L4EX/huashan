{
 "cells": [
  {
   "cell_type": "code",
   "execution_count": null,
   "id": "6f43fdd9-ad3e-40aa-82ed-30fd8e1cdabe",
   "metadata": {},
   "outputs": [],
   "source": [
    "# 查看当前kernel下已安装的包  list packages\n",
    "!pip list --format=columns"
   ]
  },
  {
   "cell_type": "code",
   "execution_count": null,
   "id": "65be72c3-6f35-4a3c-813e-b1da470f83e2",
   "metadata": {},
   "outputs": [],
   "source": [
    "# 安装拓展包\n",
    "pip install some_package --user"
   ]
  },
  {
   "cell_type": "code",
   "execution_count": null,
   "id": "f39c149c-9786-45f6-a1e8-350d69ab1a04",
   "metadata": {},
   "outputs": [],
   "source": [
    "# 举例：安装sklearn某依赖库\n",
    "!pip install sklearn2pmml --user"
   ]
  },
  {
   "cell_type": "code",
   "execution_count": null,
   "id": "3c395d9a-224f-4ce6-b2d8-4a127cc3c773",
   "metadata": {},
   "outputs": [],
   "source": [
    "# 举例：绘图案例 an example of matplotlib\n",
    "%matplotlib inline\n",
    "import numpy as np\n",
    "import matplotlib.pyplot as plt\n",
    "from scipy.special import jn\n",
    "from IPython.display import display, clear_output\n",
    "import time\n",
    "x = np.linspace(0,5)\n",
    "f, ax = plt.subplots()\n",
    "ax.set_title(\"Bessel functions\")\n",
    "\n",
    "for n in range(1,10):\n",
    "    time.sleep(1)\n",
    "    ax.plot(x, jn(x,n))\n",
    "    clear_output(wait=True)\n",
    "    display(f)\n",
    "\n",
    "# close the figure at the end, so we don't get a duplicate\n",
    "# of the last plot\n",
    "plt.close()"
   ]
  }
 ],
 "metadata": {
  "kernelspec": {
   "display_name": "Python 3 (ipykernel)",
   "language": "python",
   "name": "python3"
  },
  "language_info": {
   "codemirror_mode": {
    "name": "ipython",
    "version": 3
   },
   "file_extension": ".py",
   "mimetype": "text/x-python",
   "name": "python",
   "nbconvert_exporter": "python",
   "pygments_lexer": "ipython3",
   "version": "3.10.14"
  }
 },
 "nbformat": 4,
 "nbformat_minor": 5
}
